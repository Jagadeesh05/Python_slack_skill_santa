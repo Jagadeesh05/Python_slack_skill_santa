{
 "cells": [
  {
   "cell_type": "markdown",
   "metadata": {},
   "source": [
    "#                                              ## Python Assignment"
   ]
  },
  {
   "cell_type": "markdown",
   "metadata": {},
   "source": [
    "1. Rename key city to location in the following dictionary"
   ]
  },
  {
   "cell_type": "code",
   "execution_count": 8,
   "metadata": {},
   "outputs": [],
   "source": [
    "SkillSanta_Dict={\n",
    "    \"name\":\"Sachin\",\n",
    "    \"age\":22,\n",
    "    \"salary\":60000,\n",
    "    \"city\":\"New Delhi\"\n",
    "}\n"
   ]
  },
  {
   "cell_type": "code",
   "execution_count": 9,
   "metadata": {},
   "outputs": [],
   "source": [
    "SkillSanta_Dict[\"location\"]=SkillSanta_Dict.pop(\"city\")"
   ]
  },
  {
   "cell_type": "code",
   "execution_count": 10,
   "metadata": {},
   "outputs": [
    {
     "data": {
      "text/plain": [
       "{'name': 'Sachin', 'age': 22, 'salary': 60000, 'location': 'New Delhi'}"
      ]
     },
     "execution_count": 10,
     "metadata": {},
     "output_type": "execute_result"
    }
   ],
   "source": [
    "SkillSanta_Dict"
   ]
  },
  {
   "cell_type": "markdown",
   "metadata": {},
   "source": [
    "2. Given a list iterate it and count the occurrence of each element and create\n",
    "   a dictionary to show the count of each element"
   ]
  },
  {
   "cell_type": "code",
   "execution_count": 16,
   "metadata": {},
   "outputs": [
    {
     "name": "stdout",
     "output_type": "stream",
     "text": [
      "{11: 2, 45: 3, 8: 1, 23: 2, 89: 1}\n"
     ]
    }
   ],
   "source": [
    "lis=[11,45,8,11,23,45,23,45,89]\n",
    "dic={}\n",
    "for i in lis:\n",
    "    if i not in dic:\n",
    "        dic[i]=0\n",
    "    dic[i]+=1\n",
    "print(dic)"
   ]
  },
  {
   "cell_type": "markdown",
   "metadata": {},
   "source": [
    "3. Remove duplicate from a list and create a tuple and find the minimum and\n",
    "   maximum number"
   ]
  },
  {
   "cell_type": "code",
   "execution_count": 21,
   "metadata": {},
   "outputs": [
    {
     "name": "stdout",
     "output_type": "stream",
     "text": [
      "unique_items [87, 45, 41, 65, 94, 99]\n",
      "tuple (87, 45, 41, 65, 94, 99)\n",
      "min: 41\n",
      "max: 99\n"
     ]
    }
   ],
   "source": [
    "samplelist=[87,45,41,65,94,41,99,94]\n",
    "unique_items=[]\n",
    "for i in samplelist:\n",
    "    if i not in unique_items:\n",
    "        unique_items.append(i)\n",
    "print(\"unique_items\",unique_items)\n",
    "\n",
    "def convert(list):\n",
    "    return tuple(i for i in list)\n",
    "print(\"tuple\",convert(unique_items))\n",
    "\n",
    "unique_items.sort()\n",
    "print(\"min:\",unique_items[0])\n",
    "print(\"max:\",unique_items[len(unique_items)-1])\n",
    "      "
   ]
  },
  {
   "cell_type": "markdown",
   "metadata": {},
   "source": [
    "4. Create a function showEmployee() in such a way that it should accept\n",
    "   employee name, and it’s salary and display both, and if the salary is\n",
    "    missing in function call it should show it as 50000"
   ]
  },
  {
   "cell_type": "code",
   "execution_count": 7,
   "metadata": {},
   "outputs": [],
   "source": [
    "def showEmployee(name,salary=50000):\n",
    "    employee_name=name\n",
    "    employee_salary=salary\n",
    "    print(\"Employee {} salary is:{}\".format(employee_name,employee_salary))\n",
    "    "
   ]
  },
  {
   "cell_type": "code",
   "execution_count": 9,
   "metadata": {},
   "outputs": [
    {
     "name": "stdout",
     "output_type": "stream",
     "text": [
      "Employee Eddy salary is:50000\n",
      "Employee Eddy salary is:50000\n"
     ]
    }
   ],
   "source": [
    "showEmployee(\"Eddy\",50000)\n",
    "showEmployee(\"Eddy\")"
   ]
  },
  {
   "cell_type": "markdown",
   "metadata": {},
   "source": [
    "5. Create an inner function to calculate the addition in the following way\n",
    "    ● Create an outer function that will accept two parameters a and b\n",
    "    ● Create an inner function inside an outer function that will calculate\n",
    "      the addition of a and b\n",
    "    ● At last, an outer function will add 5 into addition and return it"
   ]
  },
  {
   "cell_type": "code",
   "execution_count": 18,
   "metadata": {},
   "outputs": [],
   "source": [
    "def outer(a,b):\n",
    "    def inner(a,b):\n",
    "        sum=a+b\n",
    "        return sum\n",
    "    sum=inner(a,b)\n",
    "    return sum+5\n",
    "    "
   ]
  },
  {
   "cell_type": "code",
   "execution_count": 19,
   "metadata": {},
   "outputs": [
    {
     "data": {
      "text/plain": [
       "14"
      ]
     },
     "execution_count": 19,
     "metadata": {},
     "output_type": "execute_result"
    }
   ],
   "source": [
    "outer(5,4)"
   ]
  },
  {
   "cell_type": "markdown",
   "metadata": {},
   "source": [
    "6. Write a recursive function to print the fibonacci series of n numbers"
   ]
  },
  {
   "cell_type": "code",
   "execution_count": 31,
   "metadata": {},
   "outputs": [
    {
     "name": "stdout",
     "output_type": "stream",
     "text": [
      "Fibonacci series:\n",
      "0\n",
      "1\n",
      "1\n",
      "2\n",
      "3\n",
      "5\n",
      "8\n",
      "13\n",
      "21\n",
      "34\n"
     ]
    }
   ],
   "source": [
    "def fibonacci(n):\n",
    "    if n<=1:\n",
    "        return n\n",
    "    else:\n",
    "        return fibonacci(n-1) + fibonacci(n-2)\n",
    "    \n",
    "n=10\n",
    "print(\"Fibonacci series:\")\n",
    "for i in range(n):\n",
    "    print(fibonacci(i))"
   ]
  },
  {
   "cell_type": "markdown",
   "metadata": {},
   "source": [
    "7. Assign a different name to function and call it through the new name\n",
    "    Example:\n",
    "        the function displayStudent(name, age). Assign a new name showStudent(name,\n",
    "        age) to it and call through the new name"
   ]
  },
  {
   "cell_type": "code",
   "execution_count": 39,
   "metadata": {},
   "outputs": [
    {
     "name": "stdout",
     "output_type": "stream",
     "text": [
      "Name of Student: Nikhil\n",
      "Age of Student: 20\n"
     ]
    }
   ],
   "source": [
    "def displayStudent(name, age):\n",
    "    print(\"Name of Student:\",name)\n",
    "    print(\"Age of Student:\",age)\n",
    "showStudent=displayStudent\n",
    "showStudent(\"Nikhil\",20)\n",
    "    \n",
    "    "
   ]
  },
  {
   "cell_type": "markdown",
   "metadata": {},
   "source": [
    "8. Create a python function which takes a mobile number from the user until\n",
    "    the user would not give you a proper mobile number. If a user gives the\n",
    "    wrong input you have to take input again from the user, once get proper\n",
    "    number stop asking"
   ]
  },
  {
   "cell_type": "code",
   "execution_count": 55,
   "metadata": {},
   "outputs": [],
   "source": [
    "def mobilenumber():\n",
    "    while(1>0):\n",
    "        number=input(\"Enter the mobile no:\")\n",
    "        if(len(number))==10:\n",
    "            break\n",
    "        else:\n",
    "            continue"
   ]
  },
  {
   "cell_type": "code",
   "execution_count": 56,
   "metadata": {},
   "outputs": [
    {
     "name": "stdout",
     "output_type": "stream",
     "text": [
      "Enter the mobile no:2569956\n",
      "Enter the mobile no:8885552244\n"
     ]
    }
   ],
   "source": [
    "mobilenumber()"
   ]
  },
  {
   "cell_type": "markdown",
   "metadata": {},
   "source": [
    "9. Write a Python function that accepts a string and calculates the number of\n",
    "    uppercase letters and lowercase letters.\n",
    "    Sample String : 'The quick Brown Fox'\n",
    "    Expected Output :\n",
    "    No. of Uppercase characters : 3\n",
    "    No. of Lowercase Characters : 12"
   ]
  },
  {
   "cell_type": "code",
   "execution_count": 59,
   "metadata": {},
   "outputs": [],
   "source": [
    "def counts(str):\n",
    "    lis=str.split()\n",
    "    upper=0\n",
    "    lower=0\n",
    "    for i in lis:\n",
    "        for j in i:\n",
    "            if j==j.upper():\n",
    "                upper+=1\n",
    "            else:\n",
    "                lower+=1\n",
    "    print(\"No. of Uppercase characters :\",upper)\n",
    "    print(\"No. of Lowercase Characters :\",lower)\n",
    "                \n",
    "        "
   ]
  },
  {
   "cell_type": "code",
   "execution_count": 60,
   "metadata": {},
   "outputs": [
    {
     "name": "stdout",
     "output_type": "stream",
     "text": [
      "No. of Uppercase characters : 3\n",
      "No. of Lowercase Characters : 13\n"
     ]
    }
   ],
   "source": [
    "counts('The quick Brown Fox')"
   ]
  },
  {
   "cell_type": "markdown",
   "metadata": {},
   "source": [
    "10.Write a Python function to check whether a number is perfect or not. Go\n",
    "    to the editor According to Wikipedia : In number theory, a perfect number is\n",
    "    a positive integer that is equal to the sum of its proper positive divisors,\n",
    "    that is, the sum of its positive divisors excluding the number itself (also\n",
    "    known as its aliquot sum). Equivalently, a perfect number is a number that\n",
    "    is half the sum of all of its positive divisors (including itself).\n",
    "    Example : The first perfect number is 6, because 1, 2, and 3 are its proper\n",
    "    positive divisors, and 1 + 2 + 3 = 6. Equivalently, the number 6 is equal to\n",
    "    half the sum of all its positive divisors: ( 1 + 2 + 3 + 6 ) / 2 = 6. The next\n",
    "    perfect number is 28 = 1 + 2 + 4 + 7 + 14. This is followed by the perfect\n",
    "    numbers 496 and 8128."
   ]
  },
  {
   "cell_type": "code",
   "execution_count": 73,
   "metadata": {},
   "outputs": [],
   "source": [
    "def perfectnumber(n):\n",
    "    sum=0\n",
    "    for i in range(1,n+1):\n",
    "        if(n%i==0):\n",
    "            sum=sum+i\n",
    "    #print(sum)\n",
    "    if(sum/n==2):\n",
    "        print(\"{} is a perfect number\".format(n))\n",
    "    else:\n",
    "        print(\"{} is a not perfect number\".format(n))     "
   ]
  },
  {
   "cell_type": "code",
   "execution_count": 77,
   "metadata": {},
   "outputs": [
    {
     "name": "stdout",
     "output_type": "stream",
     "text": [
      "8128 is a perfect number\n"
     ]
    }
   ],
   "source": [
    "perfectnumber(8128)"
   ]
  },
  {
   "cell_type": "code",
   "execution_count": null,
   "metadata": {},
   "outputs": [],
   "source": []
  }
 ],
 "metadata": {
  "kernelspec": {
   "display_name": "Python 3",
   "language": "python",
   "name": "python3"
  },
  "language_info": {
   "codemirror_mode": {
    "name": "ipython",
    "version": 3
   },
   "file_extension": ".py",
   "mimetype": "text/x-python",
   "name": "python",
   "nbconvert_exporter": "python",
   "pygments_lexer": "ipython3",
   "version": "3.8.3"
  }
 },
 "nbformat": 4,
 "nbformat_minor": 4
}
